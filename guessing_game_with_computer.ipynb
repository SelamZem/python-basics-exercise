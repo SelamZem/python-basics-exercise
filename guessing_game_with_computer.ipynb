{
  "cells": [
    {
      "cell_type": "markdown",
      "metadata": {
        "id": "view-in-github",
        "colab_type": "text"
      },
      "source": [
        "<a href=\"https://colab.research.google.com/github/SelamZem/python-basics-exercise/blob/main/guessing_game_with_computer.ipynb\" target=\"_parent\"><img src=\"https://colab.research.google.com/assets/colab-badge.svg\" alt=\"Open In Colab\"/></a>"
      ]
    },
    {
      "cell_type": "code",
      "execution_count": 2,
      "metadata": {
        "id": "3r5e1CMAWhuY"
      },
      "outputs": [],
      "source": [
        "#number guessing game\n",
        "import random\n",
        "y = range(0,10)\n",
        "d = random.sample(y, 4) #changes the y into list \n",
        "f = (str(d[0]) + str(d[1]) +str(d[2]) + str(d[3]))\n",
        "j = [\"none\", \"First\", \"Second\", \"Third\", \"Fourth\" , \"Fifth\", \"Sixth\", \"Seventh\", \"Eighth\", \"Nineth\", \"Final\"]\n",
        "def guess():\n",
        "  print(\"You have 10 chances to guess the right-number in right-order.\")\n",
        "  c = 0 # counts the loop\n",
        "  while c <= 10:\n",
        "    c +=1\n",
        "    print(\"This is your\", j[c], \"guess.\")\n",
        "    try:\n",
        "      p = int(input(\"Enter any four digit number: \")) #input from user\n",
        "      z = [int(j) for j in str(p)] #changes the input into list\n",
        "      #check the digits are only four\n",
        "      if len(z) > 4 or len(z) < 4:\n",
        "        print(\"invalid number, try again!\")\n",
        "\n",
        "      else:  \n",
        "        #checks if the number exists in the list\n",
        "        n = 0 # counts how many numbers the player got correct\n",
        "        for i in range(4):\n",
        "          if z[i] in d:\n",
        "            n +=1\n",
        "        print(f\"You got {n} numbers correct\")\n",
        "    \n",
        "        #checks the place of the number\n",
        "        b = 0 # counts numbers which has same position as the random number\n",
        "        for i in range(4):\n",
        "          if z[i] == d[i]:\n",
        "            b +=1\n",
        "        print(f\"You got {b} numbers place correct\")\n",
        "        if b == 4: #c\n",
        "          break\n",
        "    except:\n",
        "          print(\"invalid input!\")\n",
        "    \n",
        "\n",
        "  if(n == 4 and b ==4):\n",
        "    print(\"You Won!\\n The number was \", f)\n",
        "  else:\n",
        "    print(\"You lost!\\n The number was \", f)     \n"
      ]
    },
    {
      "cell_type": "code",
      "execution_count": 2,
      "metadata": {
        "id": "3nl1dLKXovYp"
      },
      "outputs": [],
      "source": [
        "guess()"
      ]
    }
  ],
  "metadata": {
    "colab": {
      "collapsed_sections": [],
      "provenance": [],
      "authorship_tag": "ABX9TyMBk0E3CeC0rZQfgH9MiNbj",
      "include_colab_link": true
    },
    "kernelspec": {
      "display_name": "Python 3",
      "name": "python3"
    },
    "language_info": {
      "name": "python"
    }
  },
  "nbformat": 4,
  "nbformat_minor": 0
}