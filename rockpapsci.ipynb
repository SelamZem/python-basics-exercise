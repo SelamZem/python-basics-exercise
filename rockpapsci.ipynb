{
  "cells": [
    {
      "cell_type": "code",
      "execution_count": null,
      "metadata": {
        "colab": {
          "base_uri": "https://localhost:8080/"
        },
        "id": "ydUieR1pkZv8",
        "outputId": "e788cc95-ffcb-4b90-88f6-5c6dce998786"
      },
      "outputs": [
        {
          "output_type": "stream",
          "name": "stdout",
          "text": [
            "you have 3 chances to win the computer!:)\n"
          ]
        }
      ],
      "source": [
        "#rock,paper,scissor\n",
        "import random\n",
        "\n",
        "n = 0 #no of rounds\n",
        "yp = 0 #player's points\n",
        "cp = 0 #computer points\n",
        "print(\"you have 3 chances to win the computer!:)\")\n",
        "list = ['rock','paper','scissor']\n",
        "for i in range(3):\n",
        "\n",
        "  p = input(\"choose from rock, paper and scissor: \") #input from the person\n",
        "  c = p.lower() #handles spelling\n",
        "  \n",
        "  #computers choice\n",
        "  y = random.randint(0,2)\n",
        "  cc = list[y] #cc is computer choice\n",
        "\n",
        "  n +=1  \n",
        "  if c == \"rock\" and cc == \"paper\":\n",
        "    print(\"Computer won!\")\n",
        "    cp +=1\n",
        "  elif c == \"rock\" and cc == \"scissor\":\n",
        "    print(\"You won!\")\n",
        "    yp +=1\n",
        "  elif c == \"rock\" and cc == \"rock\":\n",
        "    print(\"Draw!\")\n",
        "  elif c == \"paper\" and cc == \"rock\":\n",
        "    print(\"You won!\")\n",
        "    yp +=1\n",
        "  elif c == \"paper\" and cc == \"scissor\":\n",
        "    print(\"Compute won!\")\n",
        "    cp +=1\n",
        "  elif c == \"paper\" and cc == \"paper\":\n",
        "    print(\"Draw!\")\n",
        "  elif c == \"scissor\" and cc == \"scissor\":\n",
        "    print(\"Draw!\")\n",
        "  elif c == \"scissor\" and cc == \"paper\":\n",
        "    print(\"You won!\")\n",
        "    yp +=1\n",
        "  elif c == \"scissors\" and cc == \"rock\":\n",
        "    print(\"Computer won!\")\n",
        "    cp +=1\n",
        "  else:\n",
        "    print(\"please enter the correct word\")\n",
        "  \n",
        "else:\n",
        "  if(yp>cp):\n",
        "    print(\"Finally you won!\")\n",
        "  elif(cp>yp):\n",
        "    print(\"Computer won::))\")\n",
        "  else:\n",
        "    print(\"Draw\")"
      ]
    }
  ],
  "metadata": {
    "colab": {
      "provenance": [],
      "authorship_tag": "ABX9TyMrWSYGMFP+zhWrw6GwcuHl"
    },
    "kernelspec": {
      "display_name": "Python 3",
      "name": "python3"
    },
    "language_info": {
      "name": "python"
    }
  },
  "nbformat": 4,
  "nbformat_minor": 0
}